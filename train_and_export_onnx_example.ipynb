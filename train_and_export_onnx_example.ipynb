{
 "cells": [
  {
   "cell_type": "markdown",
   "id": "departmental-screw",
   "metadata": {},
   "source": [
    "**This is example of how to trace model with jit and export it to the onnx**"
   ]
  },
  {
   "cell_type": "code",
   "execution_count": 1,
   "id": "impressed-toolbox",
   "metadata": {},
   "outputs": [],
   "source": [
    "from rl_games.torch_runner import Runner\n",
    "import ray\n",
    "import yaml\n",
    "import torch\n",
    "import matplotlib.pyplot as plt\n",
    "import gym\n",
    "from IPython import display\n",
    "import numpy as np\n",
    "import onnx\n",
    "import onnxruntime as ort\n",
    "%matplotlib inline"
   ]
  },
  {
   "cell_type": "code",
   "execution_count": 2,
   "id": "unexpected-grenada",
   "metadata": {},
   "outputs": [
    {
     "name": "stderr",
     "output_type": "stream",
     "text": [
      "2022-03-30 17:10:01,407\tINFO services.py:1274 -- View the Ray dashboard at \u001b[1m\u001b[32mhttp://127.0.0.1:8265\u001b[39m\u001b[22m\n"
     ]
    },
    {
     "data": {
      "text/plain": [
       "{'node_ip_address': '192.168.0.81',\n",
       " 'raylet_ip_address': '192.168.0.81',\n",
       " 'redis_address': '192.168.0.81:6379',\n",
       " 'object_store_address': '/tmp/ray/session_2022-03-30_17-10-00_620352_30954/sockets/plasma_store',\n",
       " 'raylet_socket_name': '/tmp/ray/session_2022-03-30_17-10-00_620352_30954/sockets/raylet',\n",
       " 'webui_url': '127.0.0.1:8265',\n",
       " 'session_dir': '/tmp/ray/session_2022-03-30_17-10-00_620352_30954',\n",
       " 'metrics_export_port': 53872,\n",
       " 'node_id': '2afdfc87648d495904201447645e81338eca9f3953661775c24e721e'}"
      ]
     },
     "execution_count": 2,
     "metadata": {},
     "output_type": "execute_result"
    }
   ],
   "source": [
    "ray.init(object_store_memory=1024*1024*1000)"
   ]
  },
  {
   "cell_type": "code",
   "execution_count": 3,
   "id": "hazardous-closing",
   "metadata": {},
   "outputs": [],
   "source": [
    "config_name = 'rl_games/configs/ppo_cartpole.yaml'"
   ]
  },
  {
   "cell_type": "code",
   "execution_count": 4,
   "id": "wired-token",
   "metadata": {},
   "outputs": [
    {
     "ename": "KeyError",
     "evalue": "'config'",
     "output_type": "error",
     "traceback": [
      "\u001b[0;31m---------------------------------------------------------------------------\u001b[0m",
      "\u001b[0;31mKeyError\u001b[0m                                  Traceback (most recent call last)",
      "\u001b[0;32m<ipython-input-4-ea3762807ac9>\u001b[0m in \u001b[0;36m<module>\u001b[0;34m\u001b[0m\n\u001b[1;32m      1\u001b[0m \u001b[0;32mwith\u001b[0m \u001b[0mopen\u001b[0m\u001b[0;34m(\u001b[0m\u001b[0mconfig_name\u001b[0m\u001b[0;34m,\u001b[0m \u001b[0;34m'r'\u001b[0m\u001b[0;34m)\u001b[0m \u001b[0;32mas\u001b[0m \u001b[0mstream\u001b[0m\u001b[0;34m:\u001b[0m\u001b[0;34m\u001b[0m\u001b[0;34m\u001b[0m\u001b[0m\n\u001b[1;32m      2\u001b[0m     \u001b[0mconfig\u001b[0m \u001b[0;34m=\u001b[0m \u001b[0myaml\u001b[0m\u001b[0;34m.\u001b[0m\u001b[0msafe_load\u001b[0m\u001b[0;34m(\u001b[0m\u001b[0mstream\u001b[0m\u001b[0;34m)\u001b[0m\u001b[0;34m\u001b[0m\u001b[0;34m\u001b[0m\u001b[0m\n\u001b[0;32m----> 3\u001b[0;31m     \u001b[0mconfig\u001b[0m\u001b[0;34m[\u001b[0m\u001b[0;34m'config'\u001b[0m\u001b[0;34m]\u001b[0m\u001b[0;34m[\u001b[0m\u001b[0;34m'full_experiment_name'\u001b[0m\u001b[0;34m]\u001b[0m \u001b[0;34m=\u001b[0m \u001b[0;34m'cartpole_onnx'\u001b[0m\u001b[0;34m\u001b[0m\u001b[0;34m\u001b[0m\u001b[0m\n\u001b[0m\u001b[1;32m      4\u001b[0m \u001b[0mrunner\u001b[0m \u001b[0;34m=\u001b[0m \u001b[0mRunner\u001b[0m\u001b[0;34m(\u001b[0m\u001b[0;34m)\u001b[0m\u001b[0;34m\u001b[0m\u001b[0;34m\u001b[0m\u001b[0m\n\u001b[1;32m      5\u001b[0m \u001b[0mrunner\u001b[0m\u001b[0;34m.\u001b[0m\u001b[0mload\u001b[0m\u001b[0;34m(\u001b[0m\u001b[0mconfig\u001b[0m\u001b[0;34m)\u001b[0m\u001b[0;34m\u001b[0m\u001b[0;34m\u001b[0m\u001b[0m\n",
      "\u001b[0;31mKeyError\u001b[0m: 'config'"
     ]
    }
   ],
   "source": [
    "with open(config_name, 'r') as stream:\n",
    "    config = yaml.safe_load(stream)\n",
    "    config['config']['full_experiment_name'] = 'cartpole_onnx'\n",
    "runner = Runner()\n",
    "runner.load(config)\n",
    "runner.run({\n",
    "    'train': True,\n",
    "})"
   ]
  },
  {
   "cell_type": "code",
   "execution_count": null,
   "id": "social-separation",
   "metadata": {},
   "outputs": [],
   "source": [
    "agent = runner.create_player()\n",
    "agent.restore('runs/cartpole_onnx/nn/cartpole_vel_info.pth')\n",
    "\n",
    "import rl_games.algos_torch.flatten as flatten\n",
    "inputs = {\n",
    "    'obs' : torch.zeros((1,) + agent.obs_shape).to(agent.device),\n",
    "    'rnn_states' : agent.states\n",
    "}\n",
    "with torch.no_grad():\n",
    "    adapter = flatten.TracingAdapter(agent.model.a2c_network, inputs,allow_non_tensor=True)\n",
    "    traced = torch.jit.trace(adapter, adapter.flattened_inputs,check_trace=False)\n",
    "    flattened_outputs = traced(*adapter.flattened_inputs)\n",
    "    print(flattened_outputs)\n",
    "    \n",
    "torch.onnx.export(traced, *adapter.flattened_inputs, \"cartpole.onnx\", verbose=True, input_names=['obs'], output_names=['logits', 'value'])\n",
    "\n",
    "onnx_model = onnx.load(\"cartpole.onnx\")\n",
    "\n",
    "# Check that the model is well formed\n",
    "onnx.checker.check_model(onnx_model)"
   ]
  },
  {
   "cell_type": "code",
   "execution_count": null,
   "id": "prospective-inspection",
   "metadata": {},
   "outputs": [],
   "source": [
    "ort_model = ort.InferenceSession(\"cartpole.onnx\")\n",
    "\n",
    "outputs = ort_model.run(\n",
    "    None,\n",
    "    {\"obs\": np.zeros((1, 4)).astype(np.float32)},\n",
    ")\n",
    "print(outputs)"
   ]
  },
  {
   "cell_type": "code",
   "execution_count": null,
   "id": "social-trash",
   "metadata": {},
   "outputs": [],
   "source": []
  },
  {
   "cell_type": "code",
   "execution_count": null,
   "id": "professional-deadline",
   "metadata": {},
   "outputs": [],
   "source": [
    "is_done = False\n",
    "env = agent.env\n",
    "obs = env.reset()\n",
    "#prev_screen = env.render(mode='rgb_array')\n",
    "#plt.imshow(prev_screen)\n",
    "total_reward = 0\n",
    "num_steps = 0\n",
    "while not is_done:\n",
    "    outputs = ort_model.run(None, {\"obs\": np.expand_dims(obs, axis=0).astype(np.float32)},)\n",
    "    action = np.argmax(outputs[0])\n",
    "    obs, reward, done, info = env.step(action)\n",
    "    total_reward += reward\n",
    "    num_steps += 1\n",
    "    is_done = done\n",
    "    screen = env.render(mode='rgb_array')\n",
    "    #plt.imshow(screen)\n",
    "    #display.display(plt.gcf())    \n",
    "    #display.clear_output(wait=True)\n",
    "print(total_reward, num_steps)\n",
    "#ipythondisplay.clear_output(wait=True)"
   ]
  },
  {
   "cell_type": "code",
   "execution_count": null,
   "id": "charitable-sculpture",
   "metadata": {},
   "outputs": [],
   "source": []
  }
 ],
 "metadata": {
  "kernelspec": {
   "display_name": "Python 3",
   "language": "python",
   "name": "python3"
  },
  "language_info": {
   "codemirror_mode": {
    "name": "ipython",
    "version": 3
   },
   "file_extension": ".py",
   "mimetype": "text/x-python",
   "name": "python",
   "nbconvert_exporter": "python",
   "pygments_lexer": "ipython3",
   "version": "3.7.9"
  }
 },
 "nbformat": 4,
 "nbformat_minor": 5
}
