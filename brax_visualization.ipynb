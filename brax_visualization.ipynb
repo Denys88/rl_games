{
 "cells": [
  {
   "cell_type": "code",
   "execution_count": 1,
   "id": "infectious-platform",
   "metadata": {},
   "outputs": [],
   "source": [
    "\n",
    "import yaml\n",
    "\n",
    "import jax\n",
    "import brax\n",
    "from brax.io import html\n",
    "\n",
    "from rl_games.torch_runner import Runner\n",
    "from rl_games.envs.brax import BraxEnv\n",
    "\n",
    "from IPython.display import HTML, IFrame, display, clear_output "
   ]
  },
  {
   "cell_type": "code",
   "execution_count": 2,
   "id": "authentic-sharp",
   "metadata": {},
   "outputs": [],
   "source": [
    "config_name = 'rl_games/configs/brax/ppo_humanoid.yaml'\n",
    "trained_network = 'nn/Humanoid_brax.pth'"
   ]
  },
  {
   "cell_type": "code",
   "execution_count": 3,
   "id": "finished-split",
   "metadata": {},
   "outputs": [
    {
     "name": "stdout",
     "output_type": "stream",
     "text": [
      "{'observation_space': Box(-inf, inf, (299,), float32), 'action_space': Box(-1.0, 1.0, (17,), float32), 'agents': 1, 'value_size': 1}\n",
      "build mlp: 299\n",
      "sigma\n",
      "actor_mlp.0.weight\n",
      "actor_mlp.0.bias\n",
      "actor_mlp.2.weight\n",
      "actor_mlp.2.bias\n",
      "actor_mlp.4.weight\n",
      "actor_mlp.4.bias\n",
      "value.weight\n",
      "value.bias\n",
      "mu.weight\n",
      "mu.bias\n",
      "RunningMeanStd:  (299,)\n",
      "=> loading checkpoint 'nn/Humanoid_brax.pth'\n"
     ]
    },
    {
     "name": "stderr",
     "output_type": "stream",
     "text": [
      "/home/trrrrr/anaconda3/envs/rlgpu/lib/python3.7/site-packages/gym/logger.py:30: UserWarning: \u001b[33mWARN: Box bound precision lowered by casting to float32\u001b[0m\n",
      "  warnings.warn(colorize('%s: %s'%('WARN', msg % args), 'yellow'))\n"
     ]
    }
   ],
   "source": [
    "with open(config_name, 'r') as stream:\n",
    "    config = yaml.safe_load(stream)\n",
    "    runner = Runner()\n",
    "    runner.load(config)\n",
    "    config = runner.get_prebuilt_config()\n",
    "    agent = runner.create_player()\n",
    "    agent.restore(trained_network)\n",
    "env_config = config['env_config']"
   ]
  },
  {
   "cell_type": "code",
   "execution_count": null,
   "id": "referenced-message",
   "metadata": {},
   "outputs": [],
   "source": [
    "\n",
    "            "
   ]
  },
  {
   "cell_type": "code",
   "execution_count": 4,
   "id": "sticky-action",
   "metadata": {},
   "outputs": [
    {
     "name": "stderr",
     "output_type": "stream",
     "text": [
      "/home/trrrrr/anaconda3/envs/rlgpu/lib/python3.7/site-packages/gym/logger.py:30: UserWarning: \u001b[33mWARN: Box bound precision lowered by casting to float32\u001b[0m\n",
      "  warnings.warn(colorize('%s: %s'%('WARN', msg % args), 'yellow'))\n"
     ]
    }
   ],
   "source": [
    "num_actors = 1\n",
    "env = BraxEnv('', num_actors, **env_config)"
   ]
  },
  {
   "cell_type": "code",
   "execution_count": 5,
   "id": "married-alarm",
   "metadata": {},
   "outputs": [
    {
     "name": "stdout",
     "output_type": "stream",
     "text": [
      "Total Reward:  7067.2854170799255\n",
      "Num steps:  704\n"
     ]
    }
   ],
   "source": [
    "\n",
    "qps = []\n",
    "obs = env.reset()\n",
    "total_reward = 0\n",
    "num_steps = 0\n",
    "state = env.state\n",
    "while not state.done:\n",
    "    qps.append(state.qp)\n",
    "    act = agent.get_action(obs)\n",
    "    obs, reward, is_done, info = env.step(act.unsqueeze(0))\n",
    "    total_reward += reward.item()\n",
    "    num_steps += 1\n",
    "    if is_done.item():\n",
    "        break\n",
    "    state = env.state\n",
    "\n",
    "print('Total Reward: ', total_reward)\n",
    "print('Num steps: ', num_steps) \n"
   ]
  },
  {
   "cell_type": "code",
   "execution_count": 6,
   "id": "tamil-phenomenon",
   "metadata": {},
   "outputs": [],
   "source": [
    "def visualize(sys, qps):\n",
    "    return HTML(html.render(sys, qps))"
   ]
  },
  {
   "cell_type": "code",
   "execution_count": 7,
   "id": "wooden-delicious",
   "metadata": {},
   "outputs": [],
   "source": []
  },
  {
   "cell_type": "code",
   "execution_count": 10,
   "id": "swiss-interval",
   "metadata": {},
   "outputs": [],
   "source": [
    "visualize(env.env.sys, qps)\n"
   ]
  },
  {
   "cell_type": "code",
   "execution_count": null,
   "id": "appropriate-desperate",
   "metadata": {},
   "outputs": [],
   "source": []
  }
 ],
 "metadata": {
  "kernelspec": {
   "display_name": "Python 3",
   "language": "python",
   "name": "python3"
  },
  "language_info": {
   "codemirror_mode": {
    "name": "ipython",
    "version": 3
   },
   "file_extension": ".py",
   "mimetype": "text/x-python",
   "name": "python",
   "nbconvert_exporter": "python",
   "pygments_lexer": "ipython3",
   "version": "3.7.9"
  }
 },
 "nbformat": 4,
 "nbformat_minor": 5
}
