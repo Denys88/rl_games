{
 "cells": [
  {
   "cell_type": "code",
   "execution_count": 1,
   "id": "removable-australian",
   "metadata": {},
   "outputs": [],
   "source": [
    "import yaml\n",
    "\n",
    "import jax\n",
    "from brax.io import html\n",
    "\n",
    "from rl_games.torch_runner import Runner\n",
    "from rl_games.envs.brax import BraxEnv\n",
    "\n",
    "import os\n",
    "os.environ[\"XLA_PYTHON_CLIENT_PREALLOCATE\"] = \"false\""
   ]
  },
  {
   "cell_type": "code",
   "execution_count": 2,
   "id": "realistic-concert",
   "metadata": {},
   "outputs": [],
   "source": [
    "\n",
    "# Training configs and path to the saved weights of the trained agent\n",
    "\n",
    "# Ant\n",
    "config_name = 'rl_games/configs/brax/ppo_ant.yaml'\n",
    "trained_network = 'runs/Ant_brax_generalized/nn/Ant_brax.pth'\n",
    "\n",
    "# Humanoid\n",
    "#config_name = 'rl_games/configs/brax/ppo_humanoid.yaml'\n",
    "#trained_network = 'runs/Humanoid_brax/nn/Humanoid_brax.pth'\n",
    "\n",
    "# config_name = 'rl_games/configs/brax/sac_ant.yaml'\n",
    "# trained_network = 'nn/Ant_brax_sac.pth'\n",
    "\n",
    "# config_name = 'rl_games/configs/brax/sac_humanoid.yaml'\n",
    "# trained_network = 'nn/humanoid_brax_sac.pth'\n",
    "\n",
    "#config_name = 'rl_games/configs/brax/ppo_ur5e.yaml'\n",
    "#trained_network = 'nn/Ur5e_brax.pth'\n",
    "\n",
    "#config_name = 'rl_games/configs/brax/ppo_halfcheetah.yaml'\n",
    "#trained_network = 'nn/Halfcheetah_brax.pth'\n",
    "\n",
    "#config_name = 'rl_games/configs/brax/ppo_grasp.yaml'\n",
    "#trained_network = 'nn/Grasp_brax.pth'\n",
    "\n",
    "#config_name = 'rl_games/configs/brax/ppo_reacher.yaml'\n",
    "#trained_network = 'nn/Reacher_brax.pth'\n",
    "\n",
    "# config_name = 'rl_games/configs/brax/sac_humanoid.yaml'\n",
    "# trained_network = './nn/humanoid_brax_sac.pth'"
   ]
  },
  {
   "cell_type": "code",
   "execution_count": 3,
   "id": "russian-howard",
   "metadata": {},
   "outputs": [
    {
     "ename": "FileNotFoundError",
     "evalue": "[Errno 2] No such file or directory: 'rl_games/configs/brax/ppo_ant.yaml'",
     "output_type": "error",
     "traceback": [
      "\u001b[0;31m---------------------------------------------------------------------------\u001b[0m",
      "\u001b[0;31mFileNotFoundError\u001b[0m                         Traceback (most recent call last)",
      "Cell \u001b[0;32mIn[3], line 1\u001b[0m\n\u001b[0;32m----> 1\u001b[0m \u001b[38;5;28;01mwith\u001b[39;00m \u001b[38;5;28;43mopen\u001b[39;49m\u001b[43m(\u001b[49m\u001b[43mconfig_name\u001b[49m\u001b[43m,\u001b[49m\u001b[43m \u001b[49m\u001b[38;5;124;43m'\u001b[39;49m\u001b[38;5;124;43mr\u001b[39;49m\u001b[38;5;124;43m'\u001b[39;49m\u001b[43m)\u001b[49m \u001b[38;5;28;01mas\u001b[39;00m stream:\n\u001b[1;32m      2\u001b[0m     config \u001b[38;5;241m=\u001b[39m yaml\u001b[38;5;241m.\u001b[39msafe_load(stream)\n\u001b[1;32m      3\u001b[0m     runner \u001b[38;5;241m=\u001b[39m Runner()\n",
      "File \u001b[0;32m~/anaconda3/envs/warp39/lib/python3.9/site-packages/IPython/core/interactiveshell.py:284\u001b[0m, in \u001b[0;36m_modified_open\u001b[0;34m(file, *args, **kwargs)\u001b[0m\n\u001b[1;32m    277\u001b[0m \u001b[38;5;28;01mif\u001b[39;00m file \u001b[38;5;129;01min\u001b[39;00m {\u001b[38;5;241m0\u001b[39m, \u001b[38;5;241m1\u001b[39m, \u001b[38;5;241m2\u001b[39m}:\n\u001b[1;32m    278\u001b[0m     \u001b[38;5;28;01mraise\u001b[39;00m \u001b[38;5;167;01mValueError\u001b[39;00m(\n\u001b[1;32m    279\u001b[0m         \u001b[38;5;124mf\u001b[39m\u001b[38;5;124m\"\u001b[39m\u001b[38;5;124mIPython won\u001b[39m\u001b[38;5;124m'\u001b[39m\u001b[38;5;124mt let you open fd=\u001b[39m\u001b[38;5;132;01m{\u001b[39;00mfile\u001b[38;5;132;01m}\u001b[39;00m\u001b[38;5;124m by default \u001b[39m\u001b[38;5;124m\"\u001b[39m\n\u001b[1;32m    280\u001b[0m         \u001b[38;5;124m\"\u001b[39m\u001b[38;5;124mas it is likely to crash IPython. If you know what you are doing, \u001b[39m\u001b[38;5;124m\"\u001b[39m\n\u001b[1;32m    281\u001b[0m         \u001b[38;5;124m\"\u001b[39m\u001b[38;5;124myou can use builtins\u001b[39m\u001b[38;5;124m'\u001b[39m\u001b[38;5;124m open.\u001b[39m\u001b[38;5;124m\"\u001b[39m\n\u001b[1;32m    282\u001b[0m     )\n\u001b[0;32m--> 284\u001b[0m \u001b[38;5;28;01mreturn\u001b[39;00m \u001b[43mio_open\u001b[49m\u001b[43m(\u001b[49m\u001b[43mfile\u001b[49m\u001b[43m,\u001b[49m\u001b[43m \u001b[49m\u001b[38;5;241;43m*\u001b[39;49m\u001b[43margs\u001b[49m\u001b[43m,\u001b[49m\u001b[43m \u001b[49m\u001b[38;5;241;43m*\u001b[39;49m\u001b[38;5;241;43m*\u001b[39;49m\u001b[43mkwargs\u001b[49m\u001b[43m)\u001b[49m\n",
      "\u001b[0;31mFileNotFoundError\u001b[0m: [Errno 2] No such file or directory: 'rl_games/configs/brax/ppo_ant.yaml'"
     ]
    }
   ],
   "source": [
    "with open(config_name, 'r') as stream:\n",
    "    config = yaml.safe_load(stream)\n",
    "    runner = Runner()\n",
    "    runner.load(config)\n",
    "    agent = runner.create_player()\n",
    "    agent.restore(trained_network)\n",
    "\n",
    "env_config = runner.params['config']['env_config']"
   ]
  },
  {
   "cell_type": "code",
   "execution_count": null,
   "id": "olive-fitness",
   "metadata": {},
   "outputs": [],
   "source": [
    "num_actors = 1\n",
    "env = BraxEnv('', num_actors, **env_config)"
   ]
  },
  {
   "cell_type": "code",
   "execution_count": null,
   "id": "imperial-sheet",
   "metadata": {},
   "outputs": [],
   "source": [
    "rollout = []\n",
    "obs = env.reset()\n",
    "total_reward = 0\n",
    "num_steps = 0\n",
    "\n",
    "is_done = False\n",
    "while not is_done:\n",
    "    act = agent.get_action(obs)\n",
    "    obs, reward, is_done, info = env.step(act.unsqueeze(0))\n",
    "    total_reward += reward.item()\n",
    "    num_steps += 1\n",
    "\n",
    "    state = agent.env.env.pipeline_init(env.state.pipeline_state.q.squeeze(0), env.state.pipeline_state.qd.squeeze(0))\n",
    "    rollout.append(state)\n",
    "\n",
    "print('Total Reward: ', total_reward)\n",
    "print('Num steps: ', num_steps)"
   ]
  },
  {
   "cell_type": "code",
   "execution_count": null,
   "id": "295febdd",
   "metadata": {},
   "outputs": [],
   "source": [
    "from IPython.display import HTML, clear_output\n",
    "\n",
    "HTML(html.render(env.env.sys.replace(dt=env.env.dt), rollout))"
   ]
  }
 ],
 "metadata": {
  "kernelspec": {
   "display_name": "Python 3 (ipykernel)",
   "language": "python",
   "name": "python3"
  },
  "language_info": {
   "codemirror_mode": {
    "name": "ipython",
    "version": 3
   },
   "file_extension": ".py",
   "mimetype": "text/x-python",
   "name": "python",
   "nbconvert_exporter": "python",
   "pygments_lexer": "ipython3",
   "version": "3.9.13"
  },
  "metadata": {
   "interpreter": {
    "hash": "969772bd26355eec31045f33e535c742a55f971d4e5b984c25fe001e67163e42"
   }
  }
 },
 "nbformat": 4,
 "nbformat_minor": 5
}
