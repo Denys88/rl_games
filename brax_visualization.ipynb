{
 "cells": [
  {
   "cell_type": "code",
   "execution_count": 1,
   "id": "removable-australian",
   "metadata": {},
   "outputs": [],
   "source": [
    "\n",
    "import yaml\n",
    "\n",
    "import jax\n",
    "import brax\n",
    "from brax.io import html\n",
    "\n",
    "from rl_games.torch_runner import Runner\n",
    "from rl_games.envs.brax import BraxEnv\n",
    "\n",
    "from IPython.display import HTML, IFrame, display, clear_output\n",
    "import os\n",
    "os.environ[\"XLA_PYTHON_CLIENT_PREALLOCATE\"] = \"false\""
   ]
  },
  {
   "cell_type": "code",
   "execution_count": 2,
   "id": "realistic-concert",
   "metadata": {},
   "outputs": [],
   "source": [
    "config_name = 'rl_games/configs/brax/ppo_ant.yaml'\n",
    "trained_network = 'nn/Ant_brax.pth'\n",
    "\n",
    "#config_name = 'rl_games/configs/brax/ppo_humanoid.yaml'\n",
    "#trained_network = 'nn/Humanoid_brax.pth'"
   ]
  },
  {
   "cell_type": "code",
   "execution_count": 3,
   "id": "russian-howard",
   "metadata": {},
   "outputs": [
    {
     "name": "stdout",
     "output_type": "stream",
     "text": [
      "{'observation_space': Box(-inf, inf, (87,), float32), 'action_space': Box(-1.0, 1.0, (8,), float32), 'agents': 1, 'value_size': 1}\n",
      "build mlp: 87\n",
      "sigma\n",
      "actor_mlp.0.weight\n",
      "actor_mlp.0.bias\n",
      "actor_mlp.2.weight\n",
      "actor_mlp.2.bias\n",
      "actor_mlp.4.weight\n",
      "actor_mlp.4.bias\n",
      "value.weight\n",
      "value.bias\n",
      "mu.weight\n",
      "mu.bias\n",
      "RunningMeanStd:  (87,)\n",
      "=> loading checkpoint 'nn/Ant_brax.pth'\n"
     ]
    },
    {
     "name": "stderr",
     "output_type": "stream",
     "text": [
      "/home/trrrrr/anaconda3/envs/rlgpu/lib/python3.7/site-packages/gym/logger.py:30: UserWarning: \u001b[33mWARN: Box bound precision lowered by casting to float32\u001b[0m\n",
      "  warnings.warn(colorize('%s: %s'%('WARN', msg % args), 'yellow'))\n"
     ]
    }
   ],
   "source": [
    "with open(config_name, 'r') as stream:\n",
    "    config = yaml.safe_load(stream)\n",
    "    runner = Runner()\n",
    "    runner.load(config)\n",
    "    config = runner.get_prebuilt_config()\n",
    "    agent = runner.create_player()\n",
    "    agent.restore(trained_network)\n",
    "env_config = config['env_config']"
   ]
  },
  {
   "cell_type": "code",
   "execution_count": null,
   "id": "variable-biography",
   "metadata": {},
   "outputs": [],
   "source": [
    "\n",
    "            "
   ]
  },
  {
   "cell_type": "code",
   "execution_count": null,
   "id": "olive-fitness",
   "metadata": {},
   "outputs": [],
   "source": [
    "num_actors = 1\n",
    "env = BraxEnv('', num_actors, **env_config)"
   ]
  },
  {
   "cell_type": "code",
   "execution_count": null,
   "id": "imperial-sheet",
   "metadata": {},
   "outputs": [],
   "source": [
    "qps = []\n",
    "obs = env.reset()\n",
    "total_reward = 0\n",
    "num_steps = 0\n",
    "\n",
    "\n",
    "class QP:\n",
    "    def __init__(self, qp):\n",
    "        self.pos = jax.numpy.squeeze(qp.pos, axis = 0)\n",
    "        self.rot = jax.numpy.squeeze(qp.rot, axis = 0)\n",
    "\n",
    "\n",
    "while not env.state.done:\n",
    "    qps.append(QP(env.state.qp))\n",
    "    act = agent.get_action(obs)\n",
    "    obs, reward, is_done, info = env.step(act.unsqueeze(0))\n",
    "    total_reward += reward.item()\n",
    "    num_steps += 1\n",
    "\n",
    "print('Total Reward: ', total_reward)\n",
    "print('Num steps: ', num_steps) \n"
   ]
  },
  {
   "cell_type": "code",
   "execution_count": null,
   "id": "artistic-prayer",
   "metadata": {},
   "outputs": [],
   "source": [
    "def visualize(sys, qps):\n",
    "    return HTML(html.render(sys, qps))"
   ]
  },
  {
   "cell_type": "code",
   "execution_count": null,
   "id": "organized-antique",
   "metadata": {},
   "outputs": [],
   "source": []
  },
  {
   "cell_type": "code",
   "execution_count": null,
   "id": "lovely-alcohol",
   "metadata": {},
   "outputs": [],
   "source": [
    "display(visualize(env.env.sys, qps))"
   ]
  },
  {
   "cell_type": "code",
   "execution_count": null,
   "id": "productive-return",
   "metadata": {},
   "outputs": [],
   "source": []
  },
  {
   "cell_type": "code",
   "execution_count": null,
   "id": "hispanic-protein",
   "metadata": {},
   "outputs": [],
   "source": []
  }
 ],
 "metadata": {
  "kernelspec": {
   "display_name": "Python 3",
   "language": "python",
   "name": "python3"
  },
  "language_info": {
   "codemirror_mode": {
    "name": "ipython",
    "version": 3
   },
   "file_extension": ".py",
   "mimetype": "text/x-python",
   "name": "python",
   "nbconvert_exporter": "python",
   "pygments_lexer": "ipython3",
   "version": "3.7.9"
  },
  "metadata": {
   "interpreter": {
    "hash": "969772bd26355eec31045f33e535c742a55f971d4e5b984c25fe001e67163e42"
   }
  }
 },
 "nbformat": 4,
 "nbformat_minor": 5
}
