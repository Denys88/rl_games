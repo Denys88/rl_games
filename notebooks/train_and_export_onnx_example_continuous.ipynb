{
 "cells": [
  {
   "cell_type": "markdown",
   "id": "f833523c",
   "metadata": {},
   "source": [
    "**This is example of how to trace model with jit and export it to the onnx**"
   ]
  },
  {
   "cell_type": "code",
   "execution_count": null,
   "id": "2d832d65",
   "metadata": {},
   "outputs": [],
   "source": [
    "from rl_games.torch_runner import Runner\n",
    "import ray\n",
    "import yaml\n",
    "import torch\n",
    "import matplotlib.pyplot as plt\n",
    "import gym\n",
    "from IPython import display\n",
    "import numpy as np\n",
    "import onnx\n",
    "import onnxruntime as ort\n",
    "%matplotlib inline"
   ]
  },
  {
   "cell_type": "code",
   "execution_count": null,
   "id": "cf09dab6",
   "metadata": {},
   "outputs": [],
   "source": [
    "ray.init(object_store_memory=1024*1024*1000)"
   ]
  },
  {
   "cell_type": "code",
   "execution_count": null,
   "id": "df8682b3",
   "metadata": {},
   "outputs": [],
   "source": [
    "config_name = '../rl_games/configs/ppo_pendulum_torch.yaml'"
   ]
  },
  {
   "cell_type": "code",
   "execution_count": null,
   "id": "c91c090f",
   "metadata": {},
   "outputs": [],
   "source": [
    "with open(config_name, 'r') as stream:\n",
    "    config = yaml.safe_load(stream)\n",
    "    config['params']['config']['normalize_input'] = True\n",
    "    config['params']['config']['max_epochs'] = 200\n",
    "    config['params']['config']['full_experiment_name'] = 'pendulum_onnx'\n",
    "    config['params']['config']['save_best_after'] = 10\n",
    "runner = Runner()\n",
    "runner.load(config)\n",
    "runner.run({\n",
    "    'train': True,\n",
    "})"
   ]
  },
  {
   "cell_type": "code",
   "execution_count": null,
   "id": "bc130c78",
   "metadata": {},
   "outputs": [],
   "source": [
    "class ModelWrapper(torch.nn.Module):\n",
    "    '''\n",
    "    Main idea is to ignore outputs which we don't need from model\n",
    "    '''\n",
    "    def __init__(self, model):\n",
    "        torch.nn.Module.__init__(self)\n",
    "        self._model = model\n",
    "        \n",
    "        \n",
    "    def forward(self,input_dict):\n",
    "        input_dict['obs'] = self._model.norm_obs(input_dict['obs'])\n",
    "        '''\n",
    "        just model export doesn't work. Looks like onnx issue with torch distributions\n",
    "        thats why we are exporting only neural network\n",
    "        '''\n",
    "        #print(input_dict)\n",
    "        #output_dict = self._model.a2c_network(input_dict)\n",
    "        #input_dict['is_train'] = False\n",
    "        #return output_dict['logits'], output_dict['values']\n",
    "        return self._model.a2c_network(input_dict)"
   ]
  },
  {
   "cell_type": "code",
   "execution_count": null,
   "id": "40268292",
   "metadata": {},
   "outputs": [],
   "source": [
    "agent = runner.create_player()\n",
    "agent.restore('runs/pendulum_onnx/nn/pendulum.pth')\n",
    "\n",
    "import rl_games.algos_torch.flatten as flatten\n",
    "inputs = {\n",
    "    'obs' : torch.zeros((1,) + agent.obs_shape).to(agent.device),\n",
    "    'rnn_states' : agent.states,\n",
    "}\n",
    "\n",
    "with torch.no_grad():\n",
    "    adapter = flatten.TracingAdapter(ModelWrapper(agent.model), inputs,allow_non_tensor=True)\n",
    "    traced = torch.jit.trace(adapter, adapter.flattened_inputs,check_trace=False)\n",
    "    flattened_outputs = traced(*adapter.flattened_inputs)\n",
    "    print(flattened_outputs)\n",
    "    \n",
    "torch.onnx.export(traced, *adapter.flattened_inputs, \"pendulum.onnx\", verbose=True, input_names=['obs'], output_names=['mu','log_std', 'value'])\n",
    "\n",
    "onnx_model = onnx.load(\"pendulum.onnx\")\n",
    "\n",
    "# Check that the model is well formed\n",
    "onnx.checker.check_model(onnx_model)"
   ]
  },
  {
   "cell_type": "code",
   "execution_count": null,
   "id": "09c2e424",
   "metadata": {},
   "outputs": [],
   "source": [
    "ort_model = ort.InferenceSession(\"pendulum.onnx\")\n",
    "\n",
    "outputs = ort_model.run(\n",
    "    None,\n",
    "    {\"obs\": np.zeros((1, 3)).astype(np.float32)},\n",
    ")\n",
    "print(outputs)"
   ]
  },
  {
   "cell_type": "code",
   "execution_count": null,
   "id": "04a41060",
   "metadata": {},
   "outputs": [],
   "source": []
  },
  {
   "cell_type": "code",
   "execution_count": null,
   "id": "a32c50a1",
   "metadata": {},
   "outputs": [],
   "source": [
    "is_done = False\n",
    "env = agent.env\n",
    "obs = env.reset()\n",
    "prev_screen = env.render(mode='rgb_array')\n",
    "plt.imshow(prev_screen)\n",
    "total_reward = 0\n",
    "num_steps = 0\n",
    "while not is_done:\n",
    "    outputs = ort_model.run(None, {\"obs\": np.expand_dims(obs, axis=0).astype(np.float32)},)\n",
    "    mu = outputs[0].squeeze(1)\n",
    "    sigma = np.exp(outputs[1].squeeze(1))\n",
    "    action = np.random.normal(mu, sigma)\n",
    "    obs, reward, done, info = env.step(action)\n",
    "    total_reward += reward\n",
    "    num_steps += 1\n",
    "    is_done = done\n",
    "    screen = env.render(mode='rgb_array')\n",
    "    plt.imshow(screen)\n",
    "    display.display(plt.gcf())    \n",
    "    display.clear_output(wait=True)\n",
    "print(total_reward, num_steps)\n",
    "ipythondisplay.clear_output(wait=True)"
   ]
  },
  {
   "cell_type": "code",
   "execution_count": null,
   "id": "2ae5a74c",
   "metadata": {},
   "outputs": [],
   "source": []
  },
  {
   "cell_type": "code",
   "execution_count": null,
   "id": "0b5cb601",
   "metadata": {},
   "outputs": [],
   "source": []
  }
 ],
 "metadata": {
  "kernelspec": {
   "display_name": "Python 3",
   "language": "python",
   "name": "python3"
  },
  "language_info": {
   "codemirror_mode": {
    "name": "ipython",
    "version": 3
   },
   "file_extension": ".py",
   "mimetype": "text/x-python",
   "name": "python",
   "nbconvert_exporter": "python",
   "pygments_lexer": "ipython3",
   "version": "3.9.12"
  }
 },
 "nbformat": 4,
 "nbformat_minor": 5
}
